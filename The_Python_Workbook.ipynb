{
  "nbformat": 4,
  "nbformat_minor": 0,
  "metadata": {
    "colab": {
      "name": "The Python Workbook.ipynb",
      "provenance": [],
      "collapsed_sections": []
    },
    "kernelspec": {
      "name": "python3",
      "display_name": "Python 3"
    }
  },
  "cells": [
    {
      "cell_type": "markdown",
      "metadata": {
        "id": "rOtZs0UPge8T"
      },
      "source": [
        "**Excercise 1: Mailing Address**"
      ]
    },
    {
      "cell_type": "code",
      "metadata": {
        "id": "6ZswktJxgZtI",
        "colab": {
          "base_uri": "https://localhost:8080/",
          "height": 82
        },
        "outputId": "a049f1e4-c620-4423-8a39-63b0ae844b34"
      },
      "source": [
        "def mailingaddress():\n",
        "  print(\"Yogesh Tak\")\n",
        "  print(\"C-89, Hello Vihar\")\n",
        "  print(\"Jodhpur\")\n",
        "  print(\"Rajasthan - 278722\")\n",
        "\n",
        "mailingaddress()"
      ],
      "execution_count": null,
      "outputs": [
        {
          "output_type": "stream",
          "text": [
            "Yogesh Tak\n",
            "C-89, Hello Vihar\n",
            "Jodhpur\n",
            "Rajasthan - 278722\n"
          ],
          "name": "stdout"
        }
      ]
    },
    {
      "cell_type": "markdown",
      "metadata": {
        "id": "UqCKMflIhQDg"
      },
      "source": [
        "**Excercise 2: Hello**"
      ]
    },
    {
      "cell_type": "code",
      "metadata": {
        "id": "74mRfk2ehJdi",
        "colab": {
          "base_uri": "https://localhost:8080/",
          "height": 50
        },
        "outputId": "75f2f93b-3e1f-41b8-a630-9cc6104ef932"
      },
      "source": [
        "def hello():\n",
        "  while \n",
        "  name = input(\"What's your name?\")\n",
        "  print(f\"Hello, {name}\")\n",
        "\n",
        "hello()"
      ],
      "execution_count": null,
      "outputs": [
        {
          "output_type": "stream",
          "text": [
            "What's your name?Yogesh\n",
            "Hello, Yogesh\n"
          ],
          "name": "stdout"
        }
      ]
    },
    {
      "cell_type": "code",
      "metadata": {
        "id": "ppUBvyeVjCkN",
        "colab": {
          "base_uri": "https://localhost:8080/",
          "height": 115
        },
        "outputId": "169ed56e-d1e9-4070-c189-50665ab6507c"
      },
      "source": [
        "#if we don't want people to enter any kind of number\n",
        "def hello1():\n",
        "  while True:\n",
        "    name = input(\"What's your name?\")\n",
        "    if not name.isalpha():\n",
        "      print(\"Please enter a valid name with english letters\")\n",
        "    else:\n",
        "      break \n",
        "  print(f\"Hello, {name}\")\n",
        "    \n",
        "hello1()"
      ],
      "execution_count": null,
      "outputs": [
        {
          "output_type": "stream",
          "text": [
            "What's your name?45\n",
            "Please enter a valid name with english letters\n",
            "What's your name?3\n",
            "Please enter a valid name with english letters\n",
            "What's your name?Yogesh\n",
            "Hello, Yogesh\n"
          ],
          "name": "stdout"
        }
      ]
    },
    {
      "cell_type": "markdown",
      "metadata": {
        "id": "bRvSDNFzhOer"
      },
      "source": [
        "**Excercise 3: Area of a Room**"
      ]
    },
    {
      "cell_type": "code",
      "metadata": {
        "id": "q2AwTnh5khtS",
        "colab": {
          "base_uri": "https://localhost:8080/",
          "height": 66
        },
        "outputId": "8a88ec7b-9aef-4f07-e3e5-1175e6865fbe"
      },
      "source": [
        "def areaofroom():\n",
        "  length = float(input(\"Enter length in meters:\"))\n",
        "  width = float(input(\"Enter width in meters:\"))\n",
        "  area = length*width\n",
        "  print(f\"Area: {round(area,2)}m\\u00b2 \")\n",
        "\n",
        "areaofroom()"
      ],
      "execution_count": null,
      "outputs": [
        {
          "output_type": "stream",
          "text": [
            "Enter length in meters:45.7683\n",
            "Enter width in meters:328.2131\n",
            "Area: 15021.76m² \n"
          ],
          "name": "stdout"
        }
      ]
    },
    {
      "cell_type": "markdown",
      "metadata": {
        "id": "UAml5BbHl7m9"
      },
      "source": [
        "**Excercise 4: Area of Field**"
      ]
    },
    {
      "cell_type": "code",
      "metadata": {
        "id": "9gvDlqIRlpiQ",
        "colab": {
          "base_uri": "https://localhost:8080/",
          "height": 66
        },
        "outputId": "492ef545-b0e7-44e0-bbbf-ad7e65e938b2"
      },
      "source": [
        "def areainacre():\n",
        "  length = float(input(\"enter length of field in feet:\"))\n",
        "  width = float(input(\"enter width of field in feet:\"))\n",
        "  area = length*width\n",
        "  area_in_acre = area/43560\n",
        "  print(f\"Area in acre: {round(area_in_acre,2)}\")\n",
        "\n",
        "areainacre()"
      ],
      "execution_count": null,
      "outputs": [
        {
          "output_type": "stream",
          "text": [
            "enter length of field in feet:6723.23\n",
            "enter width of field in feet:327.9\n",
            "Area in acre: 50.61\n"
          ],
          "name": "stdout"
        }
      ]
    },
    {
      "cell_type": "markdown",
      "metadata": {
        "id": "CiJsX98onI9r"
      },
      "source": [
        "**Excercise 5: Bottle Deposits**"
      ]
    },
    {
      "cell_type": "code",
      "metadata": {
        "id": "w0bA3gh-muqt",
        "colab": {
          "base_uri": "https://localhost:8080/",
          "height": 66
        },
        "outputId": "93c17baf-2fa1-439c-d79e-3ae536da99ec"
      },
      "source": [
        "def bottledeposits():\n",
        "  small_bottle = int(input(\"How many containers are you holding with volume one litre or less?\"))\n",
        "  large_bottle = int(input(\"How many drink containers are you holding with volume more than one litre?\"))\n",
        "  print(f\"You'll get refund of ${round((small_bottle*0.10)+(large_bottle*0.25),2)} if you return those containers.\")\n",
        "\n",
        "bottledeposits()"
      ],
      "execution_count": null,
      "outputs": [
        {
          "output_type": "stream",
          "text": [
            "How many containers are you holding with volume one litre or less?54\n",
            "How many drink containers are you holding with volume more than one litre?76\n",
            "You'll get refund of $24.4 if you return those containers.\n"
          ],
          "name": "stdout"
        }
      ]
    },
    {
      "cell_type": "markdown",
      "metadata": {
        "id": "RIC87_dQpbrt"
      },
      "source": [
        "**Excercise 6: Tax and Tip**"
      ]
    },
    {
      "cell_type": "code",
      "metadata": {
        "id": "8PdU8g7yo7KC",
        "colab": {
          "base_uri": "https://localhost:8080/",
          "height": 98
        },
        "outputId": "080d7d35-bd15-48d7-fbba-d87021dd940d"
      },
      "source": [
        "def taxandtip():\n",
        "  cost = float(input(\"Enter cost of meal orderd at restaurant?\"))\n",
        "  tax = 0.10*cost\n",
        "  tip = 0.18*cost\n",
        "  print(f\"Your Cost of Meal was: {cost}\")\n",
        "  print(f\"Your TAX on meal is: {round(tax,2)}\")\n",
        "  print(f\"Tip amount on meal is:{round(tip,2)}\")\n",
        "  print(f\"Grand Total that you need to pay is: {round(cost+tax+tip,2)}\")\n",
        "\n",
        "taxandtip()"
      ],
      "execution_count": null,
      "outputs": [
        {
          "output_type": "stream",
          "text": [
            "Enter cost of meal orderd at restaurant?67\n",
            "Your Cost of Meal was: 67.0\n",
            "Your TAX on meal is: 6.7\n",
            "Tip amount on meal is:12.06\n",
            "Grand Total that you need to pay is: 85.76\n"
          ],
          "name": "stdout"
        }
      ]
    },
    {
      "cell_type": "markdown",
      "metadata": {
        "id": "E_OtRwFHrSbi"
      },
      "source": [
        "**Excercise 7: Sum of the First n positive integers**"
      ]
    },
    {
      "cell_type": "code",
      "metadata": {
        "id": "e1aiSq-Wq0Cc",
        "colab": {
          "base_uri": "https://localhost:8080/",
          "height": 50
        },
        "outputId": "a696d653-1969-4b24-dbfa-c306f1151509"
      },
      "source": [
        "def sumofn():\n",
        "  while True:\n",
        "    n = input(\"Enter a positive integer?\")\n",
        "    try:\n",
        "      val = int(n)\n",
        "      if val < 0:\n",
        "        print(\"This is not positive integer\")\n",
        "        continue\n",
        "      break\n",
        "    except ValueError:\n",
        "      print(\"This is not an int\")\n",
        "\n",
        "  sum1 = (val*(val+1))/2\n",
        "  print(f\"Sum of first {val} positive numbers is: {sum1}\")\n",
        "\n",
        "sumofn()"
      ],
      "execution_count": null,
      "outputs": [
        {
          "output_type": "stream",
          "text": [
            "Enter a positive integer?12\n",
            "Sum of first 12 positive numbers is: 78.0\n"
          ],
          "name": "stdout"
        }
      ]
    },
    {
      "cell_type": "markdown",
      "metadata": {
        "id": "prkA0zaILcxB"
      },
      "source": [
        "**Excercise 8: Widgets and Gizmos**"
      ]
    },
    {
      "cell_type": "code",
      "metadata": {
        "id": "ylHfmKFwsB6O",
        "colab": {
          "base_uri": "https://localhost:8080/",
          "height": 66
        },
        "outputId": "95d50203-7810-45e8-eb15-eb57b0770866"
      },
      "source": [
        "def totalweight1():\n",
        "  widgets = int(input(\"Enter number of widgets?\"))\n",
        "  gizmos = int(input(\"Enter number of Gizmos?\"))\n",
        "  total_w = widgets*75 + gizmos*112\n",
        "  print(f\"Total weight of order is {total_w} grams or {total_w/1000} KG\")\n",
        "\n",
        "totalweight1()"
      ],
      "execution_count": null,
      "outputs": [
        {
          "output_type": "stream",
          "text": [
            "Enter number of widgets?54\n",
            "Enter number of Gizmos?43\n",
            "Total weight of order is 8866 grams or 8.866 KG\n"
          ],
          "name": "stdout"
        }
      ]
    },
    {
      "cell_type": "markdown",
      "metadata": {
        "id": "Mllk2GCTMyz-"
      },
      "source": [
        "**Excercise 9: Compound interest**"
      ]
    },
    {
      "cell_type": "code",
      "metadata": {
        "id": "aZDqBURnMeGv",
        "colab": {
          "base_uri": "https://localhost:8080/",
          "height": 82
        },
        "outputId": "5b097236-9488-4918-808f-2829f2a0d608"
      },
      "source": [
        "def compoundinterest():\n",
        "  amount = float(input(\"Enter the amount of money you are depositing?\"))\n",
        "  year1 = amount + amount*0.04\n",
        "  year2 = year1 + year1*0.04\n",
        "  year3 = year2 + year2*0.04\n",
        "\n",
        "  print(f\"Money after Year1: {round(year1,2)}\")\n",
        "  print(f\"Money after Year2: {round(year2,2)}\")\n",
        "  print(f\"Money after Year3: {round(year3,2)}\")\n",
        "\n",
        "compoundinterest()"
      ],
      "execution_count": null,
      "outputs": [
        {
          "output_type": "stream",
          "text": [
            "Enter the amount of money you are depositing?50000\n",
            "Money after Year1: 52000.0\n",
            "Money after Year2: 54080.0\n",
            "Money after Year3: 56243.2\n"
          ],
          "name": "stdout"
        }
      ]
    },
    {
      "cell_type": "code",
      "metadata": {
        "id": "Flwwfi44Nl18",
        "colab": {
          "base_uri": "https://localhost:8080/",
          "height": 245
        },
        "outputId": "ab0787e6-135f-48c1-d7dd-8544f39552cf"
      },
      "source": [
        "#giving myself a challenge to let user input amount and year and find the money in account for all these years\n",
        "\n",
        "def compoundinterest1():\n",
        "  amount = float(input(\"Enter the money you are depositing in savings account?\"))\n",
        "  while True:\n",
        "    interest_rate = float(input(\"Enter interest rate between 0 to 1 (ex- 0.04 is 4%)?\"))\n",
        "    try:\n",
        "      if interest_rate > 1:\n",
        "        print(\"Interest rate is not valid\")\n",
        "        continue\n",
        "      break\n",
        "    except ValueError:\n",
        "      print(\"This is not valid\")\n",
        "\n",
        "  years = int(input(\"Enter the number of years?\"))\n",
        "  \n",
        "  total_amount = amount\n",
        "\n",
        "  for x in range(1,years+1):\n",
        "    total_amount = total_amount + total_amount*interest_rate\n",
        "    print(f\"Money after Year{x}: {round(total_amount,2)}\")\n",
        "\n",
        "  \n",
        "compoundinterest1()\n"
      ],
      "execution_count": null,
      "outputs": [
        {
          "output_type": "stream",
          "text": [
            "Enter the money you are depositing in savings account?5000\n",
            "Enter interest rate between 0 to 1 (ex- 0.04 is 4%)?0.09\n",
            "Enter the number of years?11\n",
            "Money after Year1: 5450.0\n",
            "Money after Year2: 5940.5\n",
            "Money after Year3: 6475.15\n",
            "Money after Year4: 7057.91\n",
            "Money after Year5: 7693.12\n",
            "Money after Year6: 8385.5\n",
            "Money after Year7: 9140.2\n",
            "Money after Year8: 9962.81\n",
            "Money after Year9: 10859.47\n",
            "Money after Year10: 11836.82\n",
            "Money after Year11: 12902.13\n"
          ],
          "name": "stdout"
        }
      ]
    },
    {
      "cell_type": "markdown",
      "metadata": {
        "id": "YiS2SADDQo4Z"
      },
      "source": [
        "**Excercise 10: Arithmetic**"
      ]
    },
    {
      "cell_type": "code",
      "metadata": {
        "id": "8BfaofYdPhOY",
        "colab": {
          "base_uri": "https://localhost:8080/",
          "height": 98
        },
        "outputId": "4b851a17-0503-4e99-8053-bfd486c35c8a"
      },
      "source": [
        "def excercise10():\n",
        "  a = int(input(\"Enter a number?\"))\n",
        "  b = int(input(\"Enter another number?\"))\n",
        "  print(f\"Sum of these two numbers is: {round(a+b,2)}\")\n",
        "  print(f\"Difference of these two numbers is: {round(a-b,2)}\")\n",
        "  print(f\"Product of these two numbers is: {round(a*b,2)}\")\n",
        "\n",
        "excercise10()"
      ],
      "execution_count": null,
      "outputs": [
        {
          "output_type": "stream",
          "text": [
            "Enter a number?5\n",
            "Enter another number?6\n",
            "Sum of these two numbers is: 11\n",
            "Difference of these two numbers is: -1\n",
            "Product of these two numbers is: 30\n"
          ],
          "name": "stdout"
        }
      ]
    },
    {
      "cell_type": "code",
      "metadata": {
        "id": "C5ePmT4tPj69",
        "colab": {
          "base_uri": "https://localhost:8080/",
          "height": 180
        },
        "outputId": "49a2cbf8-66b9-432a-b7b3-72eb70e7af9c"
      },
      "source": [
        "def excercise10_():\n",
        "  a = int(input(\"Enter a number?\"))\n",
        "  b = int(input(\"Enter another number?\"))\n",
        "  print(f\"Sum of these two numbers is: {round(a+b,2)}\")\n",
        "  print(\"NEXT IS DIFFERENCE LARGER NUMBER - SMALLER NUMBER\")\n",
        "  if a > b:\n",
        "    print(f\"Difference of these two numbers is: {round(a-b,2)}\")\n",
        "  if b > a:\n",
        "    print(f\"Difference of these two numbers is: {round(b-a,2)}\")\n",
        "  print(f\"Product of these two numbers is: {round(a*b,2)}\")\n",
        "  print(f\"The quotient when a is divided by b: {a//b}\")\n",
        "  print(f\"The remainder when a is divided by b: {a%b}\")\n",
        "  import math\n",
        "  print(f\"result of log with base 10 a:{math.log(a,10)}\")\n",
        "  print(f\"a with power b: {a**b}\")\n",
        "\n",
        "excercise10_()"
      ],
      "execution_count": null,
      "outputs": [
        {
          "output_type": "stream",
          "text": [
            "Enter a number?5\n",
            "Enter another number?6\n",
            "Sum of these two numbers is: 11\n",
            "NEXT IS DIFFERENCE LARGER NUMBER - SMALLER NUMBER\n",
            "Difference of these two numbers is: 1\n",
            "Product of these two numbers is: 30\n",
            "The quotient when a is divided by b: 0\n",
            "The remainder when a is divided by b: 5\n",
            "result of log with base 10 a:0.6989700043360187\n",
            "a with power b: 15625\n"
          ],
          "name": "stdout"
        }
      ]
    },
    {
      "cell_type": "markdown",
      "metadata": {
        "id": "Cvj1-MS24xIa"
      },
      "source": [
        "**Excercise 11: Fuel Efficiency**"
      ]
    },
    {
      "cell_type": "code",
      "metadata": {
        "id": "KUWIRdcKRyVJ",
        "colab": {
          "base_uri": "https://localhost:8080/",
          "height": 50
        },
        "outputId": "3a6a8ab3-9dca-49a5-cbad-b003c66b3b47"
      },
      "source": [
        "def mpglp100():\n",
        "  us = float(input(\"Enter the fuel effieciency in miles per gallon?\"))\n",
        "  kmpergallon = us*1.6\n",
        "  gallon_per100km = 100/kmpergallon\n",
        "  ca = gallon_per100km*3.78\n",
        "  print(f\"In canada fuel efficiency is {round(ca,2)}L/per100km\")\n",
        "\n",
        "mpglp100()\n"
      ],
      "execution_count": null,
      "outputs": [
        {
          "output_type": "stream",
          "text": [
            "Enter the fuel effieciency in miles per gallon?4.2\n",
            "In canada fuel efficiency is 56.25L/per100km\n"
          ],
          "name": "stdout"
        }
      ]
    },
    {
      "cell_type": "markdown",
      "metadata": {
        "id": "LeoOgddw5r2D"
      },
      "source": [
        "**Excercise 12: Distance between two points on earth**"
      ]
    },
    {
      "cell_type": "code",
      "metadata": {
        "id": "d1_uMPx64M4T",
        "colab": {
          "base_uri": "https://localhost:8080/",
          "height": 66
        },
        "outputId": "ed1f6ee4-38e5-4f8b-f022-3492afcfe25f"
      },
      "source": [
        "def distancepoint():\n",
        "  import math\n",
        "  firstpoint_lat, firstpoint_lon = map( float, input(\"Enter latitude and longitude in this order with (,) separator for first point?\").split(\",\"))\n",
        "  secondpoint_lat, secondpoint_lon = map(float, input(\"Enter latitude and longitude in this order with (,) separator for first point?\").split(\",\")) \n",
        "  #converting degree to radian\n",
        "  firstpoint_lat_r , firstpoint_lon_r = math.radians(firstpoint_lat), math.radians(firstpoint_lon)\n",
        "  secondpoint_lat_r , secondpoint_lon_r = math.radians(secondpoint_lat), math.radians(secondpoint_lon)\n",
        "  distance = 6371.01*math.acos(math.sin(firstpoint_lat_r)*math.sin(secondpoint_lat_r)+math.cos(firstpoint_lat_r)*math.cos(secondpoint_lat_r)*math.cos(firstpoint_lon_r-secondpoint_lon_r))\n",
        "  print(f\"Distance between these two points is {round(distance,2)}KM\")\n",
        "\n",
        "distancepoint()"
      ],
      "execution_count": null,
      "outputs": [
        {
          "output_type": "stream",
          "text": [
            "Enter latitude and longitude in this order with (,) separator for first point?50.03, 05.42\n",
            "Enter latitude and longitude in this order with (,) separator for first point?45.32,67.32\n",
            "Distance between these two points is 4530.04KM\n"
          ],
          "name": "stdout"
        }
      ]
    },
    {
      "cell_type": "markdown",
      "metadata": {
        "id": "LuuKLw7j_jTy"
      },
      "source": [
        "**Excercise 13: Change of Coins**"
      ]
    },
    {
      "cell_type": "code",
      "metadata": {
        "id": "gLs6OmmZ80yN",
        "colab": {
          "base_uri": "https://localhost:8080/",
          "height": 98
        },
        "outputId": "3ded4340-816c-4853-f68d-d8c017c506d5"
      },
      "source": [
        "#In India we have 10 rupee coin, 5 rupee coin, 2 rupee coin and 1 rupee coin\n",
        "#Aim is to build a program that takes amount of money and will give you lowest number of coins to give in exchange\n",
        "def coin():\n",
        "  money = int(input(\"Enter the amount of money?\"))\n",
        "  ten_coin = money // 10\n",
        "  five_coin = (money - ten_coin*10) // 5\n",
        "  two_coin = (money - ((ten_coin*10)+(five_coin*5))) // 2\n",
        "  one_coin =  money - ((ten_coin*10)+(five_coin*5)+(two_coin*2))\n",
        "  print(f\"Number of Ten Coins: {ten_coin}\")\n",
        "  print(f\"Number of Five Coins: {five_coin}\")\n",
        "  print(f\"Number of Two Coins: {two_coin}\")\n",
        "  print(f\"Number of One Coins:{one_coin}\")\n",
        "\n",
        "coin()"
      ],
      "execution_count": null,
      "outputs": [
        {
          "output_type": "stream",
          "text": [
            "Enter the amount of money?42\n",
            "Number of Ten Coins: 4\n",
            "Number of Five Coins: 0\n",
            "Number of Two Coins: 1\n",
            "Number of One Coins:0\n"
          ],
          "name": "stdout"
        }
      ]
    },
    {
      "cell_type": "markdown",
      "metadata": {
        "id": "NZLBHuG4CELf"
      },
      "source": [
        "**Excercise 14: Height Conversion**"
      ]
    },
    {
      "cell_type": "code",
      "metadata": {
        "id": "TAyB4jwgBdJ2",
        "colab": {
          "base_uri": "https://localhost:8080/",
          "height": 50
        },
        "outputId": "9a8f8a56-89e7-43f9-e069-466d74d6a062"
      },
      "source": [
        "def height_conversion():\n",
        "  ft , inch = map(float, input(\"Enter your height in ft'inch eg (5'7)?\").split(\"'\"))\n",
        "  total_inch = inch + ft*12\n",
        "  total_cm = total_inch*2.54\n",
        "  print(f\"Your height in CM is {total_cm}cm\")\n",
        "\n",
        "height_conversion()"
      ],
      "execution_count": null,
      "outputs": [
        {
          "output_type": "stream",
          "text": [
            "Enter your height in ft'inch eg (5'7)?5'7\n",
            "Your height in CM is 170.18cm\n"
          ],
          "name": "stdout"
        }
      ]
    },
    {
      "cell_type": "markdown",
      "metadata": {
        "id": "8YcHi4j7DLLy"
      },
      "source": [
        "**Excercise 15: Distance Units**"
      ]
    },
    {
      "cell_type": "code",
      "metadata": {
        "id": "vf_lvN8_DAo1",
        "colab": {
          "base_uri": "https://localhost:8080/",
          "height": 98
        },
        "outputId": "3052c28a-c796-4812-d344-d7e4b4427b6e"
      },
      "source": [
        "def distanceunits():\n",
        "  xyz = False\n",
        "  while xyz == False:\n",
        "    ft = input(\"Enter distance in feet: \")\n",
        "    if ft.isdigit():\n",
        "      xyz = True\n",
        "  \n",
        "  ft = float(ft)\n",
        "  inches = ft*12\n",
        "  miles = ft*0.000189394\n",
        "  yards = ft*0.333333\n",
        "\n",
        "  print(f\"Distance in inches: {inches}\")\n",
        "  print(f\"Distance in miles: {miles}\")\n",
        "  print(f\"Distance in yards: {yards}\")\n",
        "\n",
        "distanceunits()"
      ],
      "execution_count": null,
      "outputs": [
        {
          "output_type": "stream",
          "text": [
            "Enter distance in feet: h\n",
            "Enter distance in feet: 6\n",
            "Distance in inches: 72.0\n",
            "Distance in miles: 0.001136364\n",
            "Distance in yards: 1.999998\n"
          ],
          "name": "stdout"
        }
      ]
    },
    {
      "cell_type": "markdown",
      "metadata": {
        "id": "NpK6Ii_UwJn6"
      },
      "source": [
        "**Excercise 16:  Area and Volume**"
      ]
    },
    {
      "cell_type": "code",
      "metadata": {
        "id": "9BiZvlVdvWz4",
        "colab": {
          "base_uri": "https://localhost:8080/",
          "height": 66
        },
        "outputId": "e57b2e71-e3ee-4b07-bca5-42ca90dd1fba"
      },
      "source": [
        "def area():\n",
        "  xyz = False\n",
        "  \n",
        "  while xyz == False:\n",
        "    radius = input(\"Enter radius to find area of circle and volume of sphere:\")\n",
        "    if radius.isdigit():\n",
        "      xyz = True\n",
        "  \n",
        "  import math\n",
        "  radius = int(radius)\n",
        "  area_circle = math.pi*(radius**2)\n",
        "  volume_sphere = (4/3)*(math.pi)*(radius**3)\n",
        "\n",
        "  print(f\"Area of Circle with radius{radius}unit is: {area_circle}\")\n",
        "  print(f\"Volume of sphere with radius{radius}unit is: {volume_sphere}\")\n",
        "\n",
        "area()"
      ],
      "execution_count": null,
      "outputs": [
        {
          "output_type": "stream",
          "text": [
            "Enter radius to find area of circle and volume of sphere:56\n",
            "Area of Circle with radius56unit is: 9852.03456165759\n",
            "Volume of sphere with radius56unit is: 735618.5806037667\n"
          ],
          "name": "stdout"
        }
      ]
    },
    {
      "cell_type": "markdown",
      "metadata": {
        "id": "zhoyDs90zhcQ"
      },
      "source": [
        "**Excercise 17: Heat Capacity**"
      ]
    },
    {
      "cell_type": "code",
      "metadata": {
        "id": "QPecrhb7yuFr",
        "colab": {
          "base_uri": "https://localhost:8080/",
          "height": 98
        },
        "outputId": "fbf53b23-1c11-4436-bea3-dff29ac657cd"
      },
      "source": [
        "def heatcapacity():\n",
        "\n",
        "  xyz = False\n",
        "  while xyz == False:\n",
        "    initial_temp = input(\"Enter initial temperature of water in degree celcius:\")\n",
        "    if initial_temp.isalpha() == False:\n",
        "      initial_temp = float(initial_temp)\n",
        "      xyz = True\n",
        "\n",
        "  abc = False\n",
        "  while abc == False:\n",
        "    final_temp = input(\"Enter final temperature of water in degree celcius:\")\n",
        "    if final_temp.isalpha() == False:\n",
        "      final_temp = float(final_temp)\n",
        "      abc = True\n",
        "  \n",
        "  lmn = False\n",
        "  while lmn == False:\n",
        "    mass = input(\"Enter mass of water in grams:\")\n",
        "    if mass.isalpha() == False:\n",
        "      mass = float(mass)\n",
        "      lmn = True\n",
        "\n",
        "  #DIFFERENCE IN TEMPERATURE\n",
        "  diff_temp = final_temp - initial_temp\n",
        "\n",
        "  energy = mass*4.186*diff_temp\n",
        "  energy_kwh = energy*0.0000002778\n",
        "  cost_energy = energy_kwh*0.089\n",
        "  print(f\"Energy required to go from {initial_temp} degree celcius to {final_temp} degree celcius is: {energy} J\")\n",
        "  print(f\"With 8.9 cents per Kilo Watt hour rate, It would cost you {cost_energy}USD\")\n",
        "\n",
        "heatcapacity()"
      ],
      "execution_count": null,
      "outputs": [
        {
          "output_type": "stream",
          "text": [
            "Enter initial temperature of water in degree celcius:10\n",
            "Enter final temperature of water in degree celcius:100\n",
            "Enter mass of water in grams:250\n",
            "Energy required to go from 10.0 degree celcius to 100.0 degree celcius is: 94185.0 J\n",
            "With 8.9 cents per Kilo Watt hour rate, It would cost you 0.002328648777USD\n"
          ],
          "name": "stdout"
        }
      ]
    },
    {
      "cell_type": "code",
      "metadata": {
        "id": "mhUwucHr0p6F"
      },
      "source": [
        ""
      ],
      "execution_count": null,
      "outputs": []
    },
    {
      "cell_type": "code",
      "metadata": {
        "id": "ZmgejMgk0t6v"
      },
      "source": [
        "`\n",
        "`"
      ],
      "execution_count": null,
      "outputs": []
    }
  ]
}